{
 "cells": [
  {
   "cell_type": "markdown",
   "id": "dfc12e6c",
   "metadata": {},
   "source": [
    "1. In the below elements which of them are values or an expression? eg:- values can be integer or string and expressions will be mathematical operators."
   ]
  },
  {
   "cell_type": "markdown",
   "id": "96414c3d",
   "metadata": {},
   "source": [
    "Ans: \n",
    "*        = Mathematical Operator\n",
    "'hello'  = String Value\n",
    "-87.8    = floting value  \n",
    "-,/,+    = Mathematical Operator\n",
    "6        = Integer Value\n"
   ]
  },
  {
   "cell_type": "markdown",
   "id": "ac527179",
   "metadata": {},
   "source": [
    "2. What is the difference between string and variable?"
   ]
  },
  {
   "cell_type": "markdown",
   "id": "a1d4a3b7",
   "metadata": {},
   "source": [
    "Ans: 1. String is data type and Variable used to store value\n",
    "\n",
    "    2. String a set of alphabet(s) or alphanumeric or Numericalpha values which can be assign to Variable and Variable a set of alphabet(s) or alphanumeric values which can take any value of kind of data type \n",
    "    \n",
    "    3. String can start with anything like alphabet, number or special char where as Variable can start with alphabet or underscore(_)"
   ]
  },
  {
   "cell_type": "markdown",
   "id": "39caa35e",
   "metadata": {},
   "source": [
    "3. Describe three different data types."
   ]
  },
  {
   "cell_type": "markdown",
   "id": "06754dd1",
   "metadata": {},
   "source": [
    "Ans: Below are the different types of data types\n",
    "\n",
    "Integer: this will take all the interger (whole numbers) numbers like (1,10,25,50,100,123 etc)\n",
    "\n",
    "String: this will have all the value combination of alphabets and alphnumeric values like ('Aniket Soni', 'IN123', 'KN','SK','100ID')\n",
    "\n",
    "Bool : this will take only two values True & False"
   ]
  },
  {
   "cell_type": "markdown",
   "id": "31717fd0",
   "metadata": {},
   "source": [
    "4. What is an expression made up of? What do all expressions do?"
   ]
  },
  {
   "cell_type": "markdown",
   "id": "82a14fd2",
   "metadata": {},
   "source": [
    "Ans: An expression is a construct made up of variables, operators, and method invocations, which are constructed according to the syntax of the language, that evaluates to a single value. ... As you can see from the other expressions, an expression can return other types of values as well, such as boolean or String ."
   ]
  },
  {
   "cell_type": "markdown",
   "id": "ed3d1bba",
   "metadata": {},
   "source": [
    "5. This assignment statements, like spam = 10. What is the difference between an expression and a statement?"
   ]
  },
  {
   "cell_type": "markdown",
   "id": "54c40b35",
   "metadata": {},
   "source": [
    "Ans: Expression is made up of values, containers, and mathematical operators (operands) and the statement is just like a command that a python interpreter executes like print."
   ]
  },
  {
   "cell_type": "markdown",
   "id": "684e1ac1",
   "metadata": {},
   "source": [
    "6. After running the following code, what does the variable bacon contain?\n",
    "bacon = 22\n",
    "bacon + 1\n"
   ]
  },
  {
   "cell_type": "code",
   "execution_count": 1,
   "id": "af9c7e81",
   "metadata": {},
   "outputs": [
    {
     "data": {
      "text/plain": [
       "23"
      ]
     },
     "execution_count": 1,
     "metadata": {},
     "output_type": "execute_result"
    }
   ],
   "source": [
    "bacon = 22\n",
    "bacon+1"
   ]
  },
  {
   "cell_type": "markdown",
   "id": "3c4273a5",
   "metadata": {},
   "source": [
    "Ans: 23"
   ]
  },
  {
   "cell_type": "markdown",
   "id": "0607806e",
   "metadata": {},
   "source": [
    "7. What should the values of the following two terms be?\n",
    "'spam' + 'spamspam'\n",
    "'spam' * 3\n"
   ]
  },
  {
   "cell_type": "code",
   "execution_count": 2,
   "id": "2b20b682",
   "metadata": {},
   "outputs": [
    {
     "data": {
      "text/plain": [
       "'spamspamspamspamspamspamspamspamspamspam'"
      ]
     },
     "execution_count": 2,
     "metadata": {},
     "output_type": "execute_result"
    }
   ],
   "source": [
    "'spam' + 'spamspam' 'spam'*3"
   ]
  },
  {
   "cell_type": "markdown",
   "id": "8a908f9a",
   "metadata": {},
   "source": [
    "8. Why is eggs a valid variable name while 100 is invalid?"
   ]
  },
  {
   "cell_type": "markdown",
   "id": "2645c3f7",
   "metadata": {},
   "source": [
    "Ans: As per the valid variable criteria a variable must be start with alphabate or underscore(_). Because of this criteria eggs is a valid  variable and 100 is not valid variable name"
   ]
  },
  {
   "cell_type": "markdown",
   "id": "39745523",
   "metadata": {},
   "source": [
    "9. What three functions can be used to get the integer, floating-point number, or string version of a value?"
   ]
  },
  {
   "cell_type": "markdown",
   "id": "9d03cfc4",
   "metadata": {},
   "source": [
    "Ans: str(), int(), float()"
   ]
  },
  {
   "cell_type": "markdown",
   "id": "1242abca",
   "metadata": {},
   "source": [
    "10. Why does this expression cause an error? How can you fix it?\n",
    "'I have eaten ' + 99 + ' burritos.'\n"
   ]
  },
  {
   "cell_type": "markdown",
   "id": "4c31b440",
   "metadata": {},
   "source": [
    "Ans: The above expression is causing an error beacuse python can not concatinate two different type of datatype. The above expression contains string and integer datatype. To solve this we need to use type cast and convert any one datatype same as other."
   ]
  },
  {
   "cell_type": "code",
   "execution_count": 3,
   "id": "a9bc9b41",
   "metadata": {},
   "outputs": [
    {
     "data": {
      "text/plain": [
       "'I have eaten 99 burritos.'"
      ]
     },
     "execution_count": 3,
     "metadata": {},
     "output_type": "execute_result"
    }
   ],
   "source": [
    "'I have eaten ' + str(99) + ' burritos.'"
   ]
  },
  {
   "cell_type": "code",
   "execution_count": null,
   "id": "4ffd5494",
   "metadata": {},
   "outputs": [],
   "source": []
  }
 ],
 "metadata": {
  "kernelspec": {
   "display_name": "Python 3 (ipykernel)",
   "language": "python",
   "name": "python3"
  },
  "language_info": {
   "codemirror_mode": {
    "name": "ipython",
    "version": 3
   },
   "file_extension": ".py",
   "mimetype": "text/x-python",
   "name": "python",
   "nbconvert_exporter": "python",
   "pygments_lexer": "ipython3",
   "version": "3.9.7"
  }
 },
 "nbformat": 4,
 "nbformat_minor": 5
}
